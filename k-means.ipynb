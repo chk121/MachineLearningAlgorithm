{
 "cells": [
  {
   "cell_type": "code",
   "execution_count": 1,
   "id": "532d06a0",
   "metadata": {},
   "outputs": [
    {
     "name": "stdout",
     "output_type": "stream",
     "text": [
      "/bin/bash: -c: line 0: syntax error near unexpected token `('\r\n",
      "/bin/bash: -c: line 0: `[Sample Dog Output](img_folder/k-means.png)'\r\n"
     ]
    }
   ],
   "source": [
    "![Sample Dog Output](img_folder/k-means.png)"
   ]
  },
  {
   "cell_type": "code",
   "execution_count": 1,
   "id": "0fe3ca01",
   "metadata": {},
   "outputs": [],
   "source": [
    "import numpy as np\n",
    "import random\n",
    "import sys\n",
    "from tqdm import tqdm\n",
    "from matplotlib import pyplot as plt\n",
    "%matplotlib inline"
   ]
  },
  {
   "cell_type": "code",
   "execution_count": 2,
   "id": "9f488839",
   "metadata": {},
   "outputs": [],
   "source": [
    "class KMeansCluster:\n",
    "    def __init__(self, ndarray, cluster_num):\n",
    "        self.ndarray = ndarray\n",
    "        self.cluster_num = cluster_num\n",
    "        self.points = self.__pick_start_point(ndarray, cluster_num)\n",
    "\n",
    "    def __pick_start_point(self, ndarray, cluster_num):\n",
    "        if cluster_num < 0 or cluster_num > ndarray.shape[0]:\n",
    "            raise Exception('Cluster nums Err.')\n",
    "\n",
    "        # random center cord\n",
    "        indexes = random.sample(np.arange(0, ndarray.shape[0]).tolist(), cluster_num)\n",
    "        points = []\n",
    "        for idx in indexes:\n",
    "            points.append(ndarray[idx].tolist())\n",
    "        return points\n",
    "\n",
    "    def cluster(self):\n",
    "        result = []\n",
    "        for i in range(self.cluster_num):\n",
    "            result.append([])\n",
    "        for p in tqdm(self.ndarray, ncols=80):\n",
    "            distance_min = sys.maxsize\n",
    "            idx = -1\n",
    "            for i in range(len(self.points)):\n",
    "                distance = self.__distance(p, self.points[i])\n",
    "                if distance < distance_min:\n",
    "                    distance_min = distance\n",
    "                    idx = i\n",
    "            result[idx].append(p.tolist())\n",
    "        new_center = []\n",
    "        for item in result:\n",
    "            new_center.append(self.__center(item).tolist())\n",
    "        # print(type(new_center), type(self.points))\n",
    "        if (self.points == new_center):\n",
    "            return result, new_center\n",
    "        self.points = new_center\n",
    "        return self.cluster()\n",
    "\n",
    "    ## Compute avg val of every column\n",
    "    def __center(self, list):\n",
    "        return np.array(list).mean(axis=0)\n",
    "\n",
    "    ## Compute distance between two points\n",
    "    def __distance(self, p1, p2):\n",
    "        tmp = 0\n",
    "        for i in range(len(p1)):\n",
    "            tmp += pow(p1[i] - p2[i], 2)\n",
    "        return pow(tmp, 0.5)\n"
   ]
  },
  {
   "cell_type": "code",
   "execution_count": 3,
   "id": "63694e02",
   "metadata": {},
   "outputs": [
    {
     "name": "stderr",
     "output_type": "stream",
     "text": [
      "100%|██████████████████████████████████████| 666/666 [00:00<00:00, 20305.20it/s]\n",
      "100%|██████████████████████████████████████| 666/666 [00:00<00:00, 17487.54it/s]\n",
      "100%|██████████████████████████████████████| 666/666 [00:00<00:00, 17752.37it/s]\n",
      "100%|██████████████████████████████████████| 666/666 [00:00<00:00, 14984.24it/s]\n",
      "100%|██████████████████████████████████████| 666/666 [00:00<00:00, 18991.91it/s]\n",
      "100%|██████████████████████████████████████| 666/666 [00:00<00:00, 24792.81it/s]\n",
      "100%|██████████████████████████████████████| 666/666 [00:00<00:00, 24402.53it/s]\n",
      "100%|██████████████████████████████████████| 666/666 [00:00<00:00, 24777.64it/s]\n",
      "100%|██████████████████████████████████████| 666/666 [00:00<00:00, 23889.15it/s]\n",
      "100%|██████████████████████████████████████| 666/666 [00:00<00:00, 24140.61it/s]\n",
      "100%|██████████████████████████████████████| 666/666 [00:00<00:00, 25190.33it/s]\n",
      "100%|██████████████████████████████████████| 666/666 [00:00<00:00, 24154.18it/s]\n",
      "100%|██████████████████████████████████████| 666/666 [00:00<00:00, 24052.68it/s]\n",
      "100%|██████████████████████████████████████| 666/666 [00:00<00:00, 24431.77it/s]\n",
      "100%|██████████████████████████████████████| 666/666 [00:00<00:00, 23696.03it/s]\n",
      "100%|██████████████████████████████████████| 666/666 [00:00<00:00, 24250.43it/s]\n",
      "100%|██████████████████████████████████████| 666/666 [00:00<00:00, 24223.93it/s]\n",
      "100%|██████████████████████████████████████| 666/666 [00:00<00:00, 24506.58it/s]\n",
      "100%|██████████████████████████████████████| 666/666 [00:00<00:00, 24329.63it/s]\n"
     ]
    },
    {
     "data": {
      "image/png": "[encoded data removed]",
      "text/plain": [
       "<Figure size 432x288 with 1 Axes>"
      ]
     },
     "metadata": {
      "needs_background": "light"
     },
     "output_type": "display_data"
    }
   ],
   "source": [
    "\n",
    "def ramdomGenPoints(nums):\n",
    "    random_n_list = np.random.randint(0, 5000, size=(nums,2))\n",
    "    return random_n_list\n",
    "\n",
    "\n",
    "if __name__ == '__main__':\n",
    "    random_list = ramdomGenPoints(666)\n",
    "    colors = ['r', 'g', 'b', 'y', 'c', 'm']\n",
    "    k = KMeansCluster(random_list, len(colors))\n",
    "    result, center = k.cluster()\n",
    "    # print(len(result), result)\n",
    "\n",
    "    plt.figure()\n",
    "    for i in range(len(colors)):\n",
    "        plt.scatter(center[i][0], center[i][1], marker='X', color=colors[i], s=200)\n",
    "        for p in result[i]:\n",
    "            plt.scatter(p[0], p[1], marker='o', color=colors[i], s=10)\n",
    "    plt.show()"
   ]
  }
 ],
 "metadata": {
  "kernelspec": {
   "display_name": "Python 3",
   "language": "python",
   "name": "python3"
  },
  "language_info": {
   "codemirror_mode": {
    "name": "ipython",
    "version": 3
   },
   "file_extension": ".py",
   "mimetype": "text/x-python",
   "name": "python",
   "nbconvert_exporter": "python",
   "pygments_lexer": "ipython3",
   "version": "3.6.13"
  }
 },
 "nbformat": 4,
 "nbformat_minor": 5
}
